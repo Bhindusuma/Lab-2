{
 "cells": [
  {
   "cell_type": "code",
   "execution_count": 1,
   "id": "002b5984",
   "metadata": {},
   "outputs": [],
   "source": [
    "import pandas as pd\n",
    "import numpy as np\n",
    "from sklearn.model_selection import train_test_split\n",
    "from sklearn.preprocessing import StandardScaler\n",
    "from sklearn.ensemble import RandomForestClassifier\n",
    "from sklearn.metrics import accuracy_score, confusion_matrix, classification_report"
   ]
  },
  {
   "cell_type": "code",
   "execution_count": 2,
   "id": "607dc863",
   "metadata": {},
   "outputs": [],
   "source": [
    "url = \"https://archive.ics.uci.edu/ml/machine-learning-databases/breast-cancer-wisconsin/wdbc.data\"\n",
    "columns = ['ID', 'Diagnosis'] + [f'feature_{i}' for i in range(1, 31)]\n",
    "data = pd.read_csv(url, header=None, names=columns)\n"
   ]
  },
  {
   "cell_type": "code",
   "execution_count": 6,
   "id": "6a14d007",
   "metadata": {},
   "outputs": [],
   "source": [
    "data = data.drop(columns=('ID'))"
   ]
  },
  {
   "cell_type": "code",
   "execution_count": 8,
   "id": "7bb218c5",
   "metadata": {},
   "outputs": [],
   "source": [
    "data['Diagnosis'] = data['Diagnosis'].map({'M': 1, 'B': 0})"
   ]
  },
  {
   "cell_type": "code",
   "execution_count": 13,
   "id": "6b77299d",
   "metadata": {},
   "outputs": [],
   "source": [
    "X = data.drop(columns=['Diagnosis'])\n",
    "y = data['Diagnosis']\n",
    "X_train, X_test, y_train, y_test = train_test_split(X, y, test_size=0.5, random_state=42)\n",
    "scaler = StandardScaler()\n",
    "X_train = scaler.fit_transform(X_train)\n",
    "X_test = scaler.transform(X_test)\n"
   ]
  },
  {
   "cell_type": "code",
   "execution_count": 15,
   "id": "e439cf0d",
   "metadata": {},
   "outputs": [
    {
     "name": "stdout",
     "output_type": "stream",
     "text": [
      "     Diagnosis  feature_1  feature_2  feature_3  feature_4  feature_5  \\\n",
      "0            1      17.99      10.38     122.80     1001.0    0.11840   \n",
      "1            1      20.57      17.77     132.90     1326.0    0.08474   \n",
      "2            1      19.69      21.25     130.00     1203.0    0.10960   \n",
      "3            1      11.42      20.38      77.58      386.1    0.14250   \n",
      "4            1      20.29      14.34     135.10     1297.0    0.10030   \n",
      "..         ...        ...        ...        ...        ...        ...   \n",
      "564          1      21.56      22.39     142.00     1479.0    0.11100   \n",
      "565          1      20.13      28.25     131.20     1261.0    0.09780   \n",
      "566          1      16.60      28.08     108.30      858.1    0.08455   \n",
      "567          1      20.60      29.33     140.10     1265.0    0.11780   \n",
      "568          0       7.76      24.54      47.92      181.0    0.05263   \n",
      "\n",
      "     feature_6  feature_7  feature_8  feature_9  ...  feature_21  feature_22  \\\n",
      "0      0.27760    0.30010    0.14710     0.2419  ...      25.380       17.33   \n",
      "1      0.07864    0.08690    0.07017     0.1812  ...      24.990       23.41   \n",
      "2      0.15990    0.19740    0.12790     0.2069  ...      23.570       25.53   \n",
      "3      0.28390    0.24140    0.10520     0.2597  ...      14.910       26.50   \n",
      "4      0.13280    0.19800    0.10430     0.1809  ...      22.540       16.67   \n",
      "..         ...        ...        ...        ...  ...         ...         ...   \n",
      "564    0.11590    0.24390    0.13890     0.1726  ...      25.450       26.40   \n",
      "565    0.10340    0.14400    0.09791     0.1752  ...      23.690       38.25   \n",
      "566    0.10230    0.09251    0.05302     0.1590  ...      18.980       34.12   \n",
      "567    0.27700    0.35140    0.15200     0.2397  ...      25.740       39.42   \n",
      "568    0.04362    0.00000    0.00000     0.1587  ...       9.456       30.37   \n",
      "\n",
      "     feature_23  feature_24  feature_25  feature_26  feature_27  feature_28  \\\n",
      "0        184.60      2019.0     0.16220     0.66560      0.7119      0.2654   \n",
      "1        158.80      1956.0     0.12380     0.18660      0.2416      0.1860   \n",
      "2        152.50      1709.0     0.14440     0.42450      0.4504      0.2430   \n",
      "3         98.87       567.7     0.20980     0.86630      0.6869      0.2575   \n",
      "4        152.20      1575.0     0.13740     0.20500      0.4000      0.1625   \n",
      "..          ...         ...         ...         ...         ...         ...   \n",
      "564      166.10      2027.0     0.14100     0.21130      0.4107      0.2216   \n",
      "565      155.00      1731.0     0.11660     0.19220      0.3215      0.1628   \n",
      "566      126.70      1124.0     0.11390     0.30940      0.3403      0.1418   \n",
      "567      184.60      1821.0     0.16500     0.86810      0.9387      0.2650   \n",
      "568       59.16       268.6     0.08996     0.06444      0.0000      0.0000   \n",
      "\n",
      "     feature_29  feature_30  \n",
      "0        0.4601     0.11890  \n",
      "1        0.2750     0.08902  \n",
      "2        0.3613     0.08758  \n",
      "3        0.6638     0.17300  \n",
      "4        0.2364     0.07678  \n",
      "..          ...         ...  \n",
      "564      0.2060     0.07115  \n",
      "565      0.2572     0.06637  \n",
      "566      0.2218     0.07820  \n",
      "567      0.4087     0.12400  \n",
      "568      0.2871     0.07039  \n",
      "\n",
      "[569 rows x 31 columns]\n"
     ]
    }
   ],
   "source": [
    "print(data)"
   ]
  },
  {
   "cell_type": "code",
   "execution_count": 17,
   "id": "878d05e8",
   "metadata": {},
   "outputs": [
    {
     "name": "stdout",
     "output_type": "stream",
     "text": [
      "Accuracy: 0.9578947368421052\n",
      "Confusion Matrix:\n",
      "[[181   6]\n",
      " [  6  92]]\n",
      "Classification Report:\n",
      "              precision    recall  f1-score   support\n",
      "\n",
      "           0       0.97      0.97      0.97       187\n",
      "           1       0.94      0.94      0.94        98\n",
      "\n",
      "    accuracy                           0.96       285\n",
      "   macro avg       0.95      0.95      0.95       285\n",
      "weighted avg       0.96      0.96      0.96       285\n",
      "\n"
     ]
    }
   ],
   "source": [
    "model_v1 = RandomForestClassifier(n_estimators=200, random_state=42)\n",
    "model_v1.fit(X_train, y_train)\n",
    "\n",
    "y_pred = model_v1.predict(X_test)\n",
    "\n",
    "accuracy = accuracy_score(y_test, y_pred)\n",
    "conf_matrix = confusion_matrix(y_test, y_pred)\n",
    "class_report = classification_report(y_test, y_pred)\n",
    "\n",
    "print(f\"Accuracy: {accuracy}\")\n",
    "print(\"Confusion Matrix:\")\n",
    "print(conf_matrix)\n",
    "print(\"Classification Report:\")\n",
    "print(class_report)\n"
   ]
  },
  {
   "cell_type": "code",
   "execution_count": null,
   "id": "1ba77790",
   "metadata": {},
   "outputs": [],
   "source": []
  }
 ],
 "metadata": {
  "kernelspec": {
   "display_name": "Python 3 (ipykernel)",
   "language": "python",
   "name": "python3"
  },
  "language_info": {
   "codemirror_mode": {
    "name": "ipython",
    "version": 3
   },
   "file_extension": ".py",
   "mimetype": "text/x-python",
   "name": "python",
   "nbconvert_exporter": "python",
   "pygments_lexer": "ipython3",
   "version": "3.11.5"
  }
 },
 "nbformat": 4,
 "nbformat_minor": 5
}
